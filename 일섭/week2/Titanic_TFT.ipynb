{
 "cells": [
  {
   "cell_type": "markdown",
   "id": "265b1c7d-953a-4c68-af45-fd5ed41cc0ba",
   "metadata": {},
   "source": [
    "# TFT with Titanic Data"
   ]
  },
  {
   "cell_type": "markdown",
   "id": "9acf3ea5-0761-40da-997e-44ac92ea6e11",
   "metadata": {},
   "source": [
    "## 1. import packages"
   ]
  },
  {
   "cell_type": "code",
   "execution_count": 1,
   "id": "637fb98a-d627-425e-bb01-4cabe4ef8019",
   "metadata": {},
   "outputs": [],
   "source": [
    "import os\n",
    "\n",
    "import apache_beam as beam\n",
    "\n",
    "import tensorflow as tf\n",
    "import tensorflow_transform as tft\n",
    "import tensorflow_transform.beam as tft_beam\n",
    "\n",
    "from tfx_bsl.public import tfxio\n",
    "from tfx_bsl.coders.example_coder import RecordBatchToExamples"
   ]
  },
  {
   "cell_type": "markdown",
   "id": "19bcd6c9-572d-4328-b1b8-e28e10114e3f",
   "metadata": {
    "tags": []
   },
   "source": [
    "## 2. Load Dataset"
   ]
  },
  {
   "cell_type": "code",
   "execution_count": 2,
   "id": "890464b9-781d-4f81-a427-277f0deb5882",
   "metadata": {},
   "outputs": [],
   "source": [
    "TRAIN_DATA_URL = \"https://storage.googleapis.com/tf-datasets/titanic/train.csv\"\n",
    "TEST_DATA_URL = \"https://storage.googleapis.com/tf-datasets/titanic/eval.csv\"\n",
    "\n",
    "train_file_path = tf.keras.utils.get_file(\"D:\\\\Study\\\\ML\\\\So1s-Study\\\\일섭\\\\week2\\\\titanic\\\\data\\\\train.csv\", TRAIN_DATA_URL)\n",
    "test_file_path = tf.keras.utils.get_file(\"D:\\\\Study\\\\ML\\\\So1s-Study\\\\일섭\\\\week2\\\\titanic\\\\data\\\\eval.csv\", TEST_DATA_URL)"
   ]
  },
  {
   "cell_type": "code",
   "execution_count": 3,
   "id": "75aec359-2c37-4c78-a99e-67b9f60eefbf",
   "metadata": {},
   "outputs": [
    {
     "data": {
      "text/plain": [
       "(True, True, True, True, True)"
      ]
     },
     "execution_count": 3,
     "metadata": {},
     "output_type": "execute_result"
    }
   ],
   "source": [
    "BASE_DIR = os.path.join('D:\\\\Study\\\\ML\\\\So1s-Study\\\\일섭\\\\week2', 'titanic')\n",
    "DATA_DIR = os.path.join(BASE_DIR, 'data')\n",
    "OUTPUT_DIR = os.path.join(BASE_DIR, 'output')\n",
    "TRAIN_DATA = os.path.join(DATA_DIR, 'train_num.csv')\n",
    "TEST_DATA = os.path.join(DATA_DIR, 'eval_num.csv')\n",
    "\n",
    "os.path.isdir(BASE_DIR), os.path.isdir(DATA_DIR), os.path.isdir(OUTPUT_DIR), os.path.isfile(TRAIN_DATA),  os.path.isfile(TEST_DATA)"
   ]
  },
  {
   "cell_type": "code",
   "execution_count": 5,
   "id": "b5c4a9ca-f2bb-40be-8477-571b5003d783",
   "metadata": {},
   "outputs": [],
   "source": [
    "SELECTED_COLUMNS = ['survived', 'sex', 'age', 'n_siblings_spouses', 'parch', 'fare', 'class', 'deck', 'embark_town', 'alone']\n",
    "NUMERIC_COLUMNS = ['age', 'n_siblings_spouses', 'parch', 'fare']\n",
    "CATEGORICAL_COLUMNS = ['class', 'deck', 'sex', 'embark_town', 'alone']\n",
    "LABEL_KEY = 'survived'\n",
    "\n",
    "# 처음에 컬럼이름을 문자열로 했는데 자꾸 컬럼이름을 float 형태로 바꾸려는 시도를 해서 오류가 나서 바꿈.\n",
    "SELECTED_COLUMNS = ['1', '2', '3', '4', '5', '6', '7', '8', '9', '10']\n",
    "NUMERIC_COLUMNS = ['3', '4', '5', '6']\n",
    "CATEGORICAL_COLUMNS = ['2', '7', '8', '9', '10']\n",
    "LABEL_KEY = '1'\n",
    "\n",
    "TRANSFORMED_TRAIN_DATA_FILEBASE='train_transformed'\n",
    "TRANSFORMED_TEST_DATA_FILEBASE='test_transformed'\n",
    "\n",
    "NUM_OOV_BUCKETS = 1"
   ]
  },
  {
   "cell_type": "markdown",
   "id": "46448a11-e1e1-42ea-aeb6-63c60bf9f85d",
   "metadata": {},
   "source": [
    "## 3. Preprocessing Function"
   ]
  },
  {
   "cell_type": "code",
   "execution_count": 6,
   "id": "617bb5c5-b12a-411e-bf90-b313aaf76ce1",
   "metadata": {},
   "outputs": [],
   "source": [
    "def preprocessing_fn(inputs):\n",
    "    outputs = inputs.copy()\n",
    "    \n",
    "    #NUMERIC Data\n",
    "    for key in NUMERIC_COLUMNS:\n",
    "        outputs[key] = tft.scale_to_0_1(inputs[key])\n",
    "    \n",
    "    # CATEGORI Data\n",
    "    for key in CATEGORICAL_COLUMNS:\n",
    "        outputs[key] = tft.compute_and_apply_vocabulary(\n",
    "            tf.strings.strip(inputs[key]),\n",
    "            num_oov_buckets=NUM_OOV_BUCKETS,\n",
    "            vocab_filename=key)\n",
    "        \n",
    "    # Label\n",
    "    table_keys = ['0', '1']\n",
    "    with tf.init_scope():\n",
    "        initializer = tf.lookup.KeyValueTensorInitializer(\n",
    "            keys=table_keys,\n",
    "            values=tf.cast(tf.range(len(table_keys)), tf.int64),\n",
    "            key_dtype=tf.string,\n",
    "            value_dtype=tf.int64)\n",
    "        table = tf.lookup.StaticHashTable(initializer, default_value=-1)\n",
    "    \n",
    "    label_str = inputs[LABEL_KEY]\n",
    "    label_str = tf.strings.strip(label_str)\n",
    "    data_labels = table.lookup(label_str)\n",
    "    transformed_label = tf.one_hot(\n",
    "        indices=data_labels, depth=2, on_value=1.0, off_value=0.0)\n",
    "    outputs[LABEL_KEY] = tf.reshape(transformed_label, [-1, len(table_keys)])\n",
    "    \n",
    "    return outputs"
   ]
  },
  {
   "cell_type": "markdown",
   "id": "fb5bf3e2-74cb-4048-8ce1-03a9ce667d5d",
   "metadata": {},
   "source": [
    "## 4. Metadata"
   ]
  },
  {
   "cell_type": "code",
   "execution_count": 7,
   "id": "467f9218-3e7f-4dfa-86cb-ed0e4cd76391",
   "metadata": {
    "tags": []
   },
   "outputs": [
    {
     "data": {
      "text/plain": [
       "{'2': FixedLenFeature(shape=[], dtype=tf.string, default_value=None),\n",
       " '7': FixedLenFeature(shape=[], dtype=tf.string, default_value=None),\n",
       " '8': FixedLenFeature(shape=[], dtype=tf.string, default_value=None),\n",
       " '9': FixedLenFeature(shape=[], dtype=tf.string, default_value=None),\n",
       " '10': FixedLenFeature(shape=[], dtype=tf.string, default_value=None),\n",
       " '3': FixedLenFeature(shape=[], dtype=tf.float32, default_value=None),\n",
       " '4': FixedLenFeature(shape=[], dtype=tf.float32, default_value=None),\n",
       " '5': FixedLenFeature(shape=[], dtype=tf.float32, default_value=None),\n",
       " '6': FixedLenFeature(shape=[], dtype=tf.float32, default_value=None),\n",
       " '1': FixedLenFeature(shape=[], dtype=tf.string, default_value=None)}"
      ]
     },
     "execution_count": 7,
     "metadata": {},
     "output_type": "execute_result"
    }
   ],
   "source": [
    "titanic_data_feature_meta = dict(\n",
    "    [(key, tf.io.FixedLenFeature([], tf.string)) for key in CATEGORICAL_COLUMNS] +\n",
    "    [(key, tf.io.FixedLenFeature([], tf.float32)) for key in NUMERIC_COLUMNS] + \n",
    "    [(LABEL_KEY, tf.io.FixedLenFeature([], tf.string))]\n",
    ")\n",
    "\n",
    "schema = tft.tf_metadata.dataset_metadata.DatasetMetadata(\n",
    "    tft.tf_metadata.schema_utils.schema_from_feature_spec(titanic_data_feature_meta)).schema\n",
    "\n",
    "titanic_data_feature_meta"
   ]
  },
  {
   "cell_type": "markdown",
   "id": "e51e6b26-59cf-47bd-b442-4ad0ddcbde60",
   "metadata": {},
   "source": [
    "## 5. Transform Function"
   ]
  },
  {
   "cell_type": "code",
   "execution_count": 8,
   "id": "5b62c3d2-861d-46f2-87f3-b30121fdce3d",
   "metadata": {},
   "outputs": [],
   "source": [
    "def transform_data(train_data_file, test_data_file, working_dir):\n",
    "    with beam.Pipeline() as pipeline:\n",
    "        with tft_beam.Context(temp_dir=os.path.join(working_dir)):\n",
    "\n",
    "            # dataset load\n",
    "            train_csv_tfxio = tfxio.CsvTFXIO(\n",
    "                file_pattern=train_data_file,\n",
    "                telemetry_descriptors=[],\n",
    "                column_names=SELECTED_COLUMNS,\n",
    "                schema=schema)\n",
    "\n",
    "            raw_data = (\n",
    "                pipeline |\n",
    "                'ReadTrainCsv' >> train_csv_tfxio.BeamSource())\n",
    "            \n",
    "            raw_dataset = (raw_data, train_csv_tfxio.TensorAdapterConfig())\n",
    "\n",
    "            #transform\n",
    "            transformed_dataset, transform_fn = (\n",
    "                raw_dataset | tft_beam.AnalyzeAndTransformDataset(\n",
    "                    preprocessing_fn, output_record_batches=True))\n",
    "\n",
    "            transformed_data, _ = transformed_dataset\n",
    "\n",
    "            _ = (\n",
    "                transformed_data\n",
    "                | 'EncodeTrainData' >>\n",
    "                beam.FlatMapTuple(lambda batch, _: RecordBatchToExamples(batch))\n",
    "                | 'WriteTrainData' >> beam.io.WriteToTFRecord(\n",
    "                    os.path.join(working_dir, TRANSFORMED_TRAIN_DATA_FILEBASE)))\n",
    "            \n",
    "            test_csv_tfxio = tfxio.CsvTFXIO(\n",
    "                file_pattern=test_data_file,\n",
    "                skip_header_lines=1,\n",
    "                telemetry_descriptors=[],\n",
    "                column_names=SELECTED_COLUMNS,\n",
    "                schema=schema)\n",
    "            raw_test_data = (\n",
    "                pipeline |\n",
    "                'ReadTestCsv' >> test_csv_tfxio.BeamSource())\n",
    "            \n",
    "            raw_test_dataset = (raw_test_data, test_csv_tfxio.TensorAdapterConfig())\n",
    "\n",
    "            #transform\n",
    "            transformed_test_dataset = (\n",
    "                (raw_test_dataset, transform_fn)\n",
    "                | tft_beam.TransformDataset(output_record_batches=True))\n",
    "\n",
    "            transformed_test_data, _ = transformed_test_dataset\n",
    "\n",
    "            _ = (\n",
    "                transformed_test_data\n",
    "                | 'EncodeTestData' >>\n",
    "                beam.FlatMapTuple(lambda batch, _: RecordBatchToExamples(batch))\n",
    "                | 'WriteTestData' >> beam.io.WriteToTFRecord(\n",
    "                    os.path.join(working_dir, TRANSFORMED_TEST_DATA_FILEBASE)))\n",
    "        \n",
    "        \n",
    "            # 이부분에서 ValueError : string to float b'age' 에러가 남.\n",
    "            _ = (transform_fn | 'WriteTransformFn' >> tft_beam.WriteTransformFn(working_dir))"
   ]
  },
  {
   "cell_type": "code",
   "execution_count": 9,
   "id": "a692d2d6-5285-4cb1-a941-11b72c1c48a2",
   "metadata": {},
   "outputs": [
    {
     "name": "stderr",
     "output_type": "stream",
     "text": [
      "WARNING:apache_beam.runners.interactive.interactive_environment:Dependencies required for Interactive Beam PCollection visualization are not available, please use: `pip install apache-beam[interactive]` to install necessary dependencies to enable all data visualization features.\n"
     ]
    },
    {
     "data": {
      "application/javascript": [
       "\n",
       "        if (typeof window.interactive_beam_jquery == 'undefined') {\n",
       "          var jqueryScript = document.createElement('script');\n",
       "          jqueryScript.src = 'https://code.jquery.com/jquery-3.4.1.slim.min.js';\n",
       "          jqueryScript.type = 'text/javascript';\n",
       "          jqueryScript.onload = function() {\n",
       "            var datatableScript = document.createElement('script');\n",
       "            datatableScript.src = 'https://cdn.datatables.net/1.10.20/js/jquery.dataTables.min.js';\n",
       "            datatableScript.type = 'text/javascript';\n",
       "            datatableScript.onload = function() {\n",
       "              window.interactive_beam_jquery = jQuery.noConflict(true);\n",
       "              window.interactive_beam_jquery(document).ready(function($){\n",
       "                \n",
       "              });\n",
       "            }\n",
       "            document.head.appendChild(datatableScript);\n",
       "          };\n",
       "          document.head.appendChild(jqueryScript);\n",
       "        } else {\n",
       "          window.interactive_beam_jquery(document).ready(function($){\n",
       "            \n",
       "          });\n",
       "        }"
      ]
     },
     "metadata": {},
     "output_type": "display_data"
    },
    {
     "name": "stdout",
     "output_type": "stream",
     "text": [
      "WARNING:tensorflow:From C:\\Users\\shini\\AppData\\Roaming\\Python\\Python37\\site-packages\\tensorflow_transform\\tf_utils.py:326: Tensor.experimental_ref (from tensorflow.python.framework.ops) is deprecated and will be removed in a future version.\n",
      "Instructions for updating:\n",
      "Use ref() instead.\n"
     ]
    },
    {
     "name": "stderr",
     "output_type": "stream",
     "text": [
      "WARNING:tensorflow:From C:\\Users\\shini\\AppData\\Roaming\\Python\\Python37\\site-packages\\tensorflow_transform\\tf_utils.py:326: Tensor.experimental_ref (from tensorflow.python.framework.ops) is deprecated and will be removed in a future version.\n",
      "Instructions for updating:\n",
      "Use ref() instead.\n"
     ]
    },
    {
     "name": "stdout",
     "output_type": "stream",
     "text": [
      ":::::\n"
     ]
    },
    {
     "name": "stderr",
     "output_type": "stream",
     "text": [
      "WARNING:root:Make sure that locally built Python SDK docker image has Python 3.7 interpreter.\n"
     ]
    },
    {
     "name": "stdout",
     "output_type": "stream",
     "text": [
      "INFO:tensorflow:Assets written to: D:\\Study\\ML\\So1s-Study\\일섭\\week2\\titanic\\output\\tftransform_tmp\\bf8a774ba0d6422a89b9371be44dc0cf\\assets\n"
     ]
    },
    {
     "name": "stderr",
     "output_type": "stream",
     "text": [
      "INFO:tensorflow:Assets written to: D:\\Study\\ML\\So1s-Study\\일섭\\week2\\titanic\\output\\tftransform_tmp\\bf8a774ba0d6422a89b9371be44dc0cf\\assets\n"
     ]
    },
    {
     "name": "stdout",
     "output_type": "stream",
     "text": [
      "INFO:tensorflow:struct2tensor is not available.\n"
     ]
    },
    {
     "name": "stderr",
     "output_type": "stream",
     "text": [
      "INFO:tensorflow:struct2tensor is not available.\n"
     ]
    },
    {
     "name": "stdout",
     "output_type": "stream",
     "text": [
      "INFO:tensorflow:tensorflow_decision_forests is not available.\n"
     ]
    },
    {
     "name": "stderr",
     "output_type": "stream",
     "text": [
      "INFO:tensorflow:tensorflow_decision_forests is not available.\n"
     ]
    },
    {
     "name": "stdout",
     "output_type": "stream",
     "text": [
      "INFO:tensorflow:tensorflow_text is not available.\n"
     ]
    },
    {
     "name": "stderr",
     "output_type": "stream",
     "text": [
      "INFO:tensorflow:tensorflow_text is not available.\n"
     ]
    },
    {
     "name": "stdout",
     "output_type": "stream",
     "text": [
      "INFO:tensorflow:Assets written to: D:\\Study\\ML\\So1s-Study\\일섭\\week2\\titanic\\output\\tftransform_tmp\\cbe6258fe448477fa0c1ac477e4e9529\\assets\n"
     ]
    },
    {
     "name": "stderr",
     "output_type": "stream",
     "text": [
      "INFO:tensorflow:Assets written to: D:\\Study\\ML\\So1s-Study\\일섭\\week2\\titanic\\output\\tftransform_tmp\\cbe6258fe448477fa0c1ac477e4e9529\\assets\n"
     ]
    },
    {
     "name": "stdout",
     "output_type": "stream",
     "text": [
      "INFO:tensorflow:struct2tensor is not available.\n"
     ]
    },
    {
     "name": "stderr",
     "output_type": "stream",
     "text": [
      "INFO:tensorflow:struct2tensor is not available.\n"
     ]
    },
    {
     "name": "stdout",
     "output_type": "stream",
     "text": [
      "INFO:tensorflow:tensorflow_decision_forests is not available.\n"
     ]
    },
    {
     "name": "stderr",
     "output_type": "stream",
     "text": [
      "INFO:tensorflow:tensorflow_decision_forests is not available.\n"
     ]
    },
    {
     "name": "stdout",
     "output_type": "stream",
     "text": [
      "INFO:tensorflow:tensorflow_text is not available.\n"
     ]
    },
    {
     "name": "stderr",
     "output_type": "stream",
     "text": [
      "INFO:tensorflow:tensorflow_text is not available.\n",
      "WARNING:apache_beam.io.tfrecordio:Couldn't find python-snappy so the implementation of _TFRecordUtil._masked_crc32c is not as fast as it could be.\n"
     ]
    },
    {
     "name": "stdout",
     "output_type": "stream",
     "text": [
      "INFO:tensorflow:struct2tensor is not available.\n"
     ]
    },
    {
     "name": "stderr",
     "output_type": "stream",
     "text": [
      "INFO:tensorflow:struct2tensor is not available.\n"
     ]
    },
    {
     "name": "stdout",
     "output_type": "stream",
     "text": [
      "INFO:tensorflow:tensorflow_decision_forests is not available.\n"
     ]
    },
    {
     "name": "stderr",
     "output_type": "stream",
     "text": [
      "INFO:tensorflow:tensorflow_decision_forests is not available.\n"
     ]
    },
    {
     "name": "stdout",
     "output_type": "stream",
     "text": [
      "INFO:tensorflow:tensorflow_text is not available.\n"
     ]
    },
    {
     "name": "stderr",
     "output_type": "stream",
     "text": [
      "INFO:tensorflow:tensorflow_text is not available.\n"
     ]
    }
   ],
   "source": [
    "transform_data(TRAIN_DATA,TEST_DATA,OUTPUT_DIR)"
   ]
  },
  {
   "cell_type": "markdown",
   "id": "a9f11ad8-a5e2-4147-95b4-5f68c135954a",
   "metadata": {},
   "source": [
    "# Dataset Read"
   ]
  },
  {
   "cell_type": "markdown",
   "id": "dbda0386-32ad-42b8-a90e-cd8dd59813a0",
   "metadata": {},
   "source": [
    "## 1. Read Metadata"
   ]
  },
  {
   "cell_type": "code",
   "execution_count": 10,
   "id": "4d0a3065-d9aa-4e38-9552-2790f211a08e",
   "metadata": {},
   "outputs": [],
   "source": [
    "tf_transform_output = tft.TFTransformOutput(OUTPUT_DIR)"
   ]
  },
  {
   "cell_type": "code",
   "execution_count": 11,
   "id": "fe5b0df1-8843-4865-8d22-d6342470e747",
   "metadata": {
    "tags": []
   },
   "outputs": [
    {
     "data": {
      "text/plain": [
       "{'1': FixedLenFeature(shape=[2], dtype=tf.float32, default_value=None),\n",
       " '10': FixedLenFeature(shape=[], dtype=tf.int64, default_value=None),\n",
       " '2': FixedLenFeature(shape=[], dtype=tf.int64, default_value=None),\n",
       " '3': FixedLenFeature(shape=[], dtype=tf.float32, default_value=None),\n",
       " '4': FixedLenFeature(shape=[], dtype=tf.float32, default_value=None),\n",
       " '5': FixedLenFeature(shape=[], dtype=tf.float32, default_value=None),\n",
       " '6': FixedLenFeature(shape=[], dtype=tf.float32, default_value=None),\n",
       " '7': FixedLenFeature(shape=[], dtype=tf.int64, default_value=None),\n",
       " '8': FixedLenFeature(shape=[], dtype=tf.int64, default_value=None),\n",
       " '9': FixedLenFeature(shape=[], dtype=tf.int64, default_value=None)}"
      ]
     },
     "execution_count": 11,
     "metadata": {},
     "output_type": "execute_result"
    }
   ],
   "source": [
    "tf_transform_output.transformed_feature_spec()"
   ]
  },
  {
   "cell_type": "markdown",
   "id": "fe629ae1-2a05-4f4f-8b71-4c5fd0ce87f2",
   "metadata": {},
   "source": [
    "## 2. Read Dataset for Training"
   ]
  },
  {
   "cell_type": "code",
   "execution_count": 12,
   "id": "bcd7379d-636a-4044-b3e7-27e8034dae77",
   "metadata": {},
   "outputs": [],
   "source": [
    "def _make_training_input_fn(tf_transform_output, train_file_pattern, batch_size):\n",
    "    def input_fn():\n",
    "        return tf.data.experimental.make_batched_features_dataset(\n",
    "            file_pattern=train_file_pattern,\n",
    "            batch_size=batch_size,\n",
    "            features=tf_transform_output.transformed_feature_spec(),\n",
    "            reader=tf.data.TFRecordDataset,\n",
    "            label_key=LABEL_KEY,\n",
    "            shuffle=True)\n",
    "\n",
    "    return input_fn"
   ]
  },
  {
   "cell_type": "code",
   "execution_count": 13,
   "id": "7698cb9d-adaa-4547-848f-52291c8ebfeb",
   "metadata": {},
   "outputs": [],
   "source": [
    "train_file_pattern = pathlib.Path(OUTPUT_DIR)/f'{TRANSFORMED_TRAIN_DATA_FILEBASE}*'\n",
    "\n",
    "input_fn = _make_training_input_fn(\n",
    "    tf_transform_output=tf_transform_output,\n",
    "    train_file_pattern = str(train_file_pattern),\n",
    "    batch_size = 10\n",
    ")"
   ]
  },
  {
   "cell_type": "code",
   "execution_count": 14,
   "id": "9d701618-7686-4f81-8bd5-7286d3bf24b3",
   "metadata": {},
   "outputs": [
    {
     "data": {
      "text/html": [
       "<div>\n",
       "<style scoped>\n",
       "    .dataframe tbody tr th:only-of-type {\n",
       "        vertical-align: middle;\n",
       "    }\n",
       "\n",
       "    .dataframe tbody tr th {\n",
       "        vertical-align: top;\n",
       "    }\n",
       "\n",
       "    .dataframe thead th {\n",
       "        text-align: right;\n",
       "    }\n",
       "</style>\n",
       "<table border=\"1\" class=\"dataframe\">\n",
       "  <thead>\n",
       "    <tr style=\"text-align: right;\">\n",
       "      <th></th>\n",
       "      <th>10</th>\n",
       "      <th>2</th>\n",
       "      <th>3</th>\n",
       "      <th>4</th>\n",
       "      <th>5</th>\n",
       "      <th>6</th>\n",
       "      <th>7</th>\n",
       "      <th>8</th>\n",
       "      <th>9</th>\n",
       "    </tr>\n",
       "  </thead>\n",
       "  <tbody>\n",
       "    <tr>\n",
       "      <th>0</th>\n",
       "      <td>0</td>\n",
       "      <td>0</td>\n",
       "      <td>0.230284</td>\n",
       "      <td>0.000</td>\n",
       "      <td>0.0</td>\n",
       "      <td>0.013175</td>\n",
       "      <td>0</td>\n",
       "      <td>0</td>\n",
       "      <td>2</td>\n",
       "    </tr>\n",
       "    <tr>\n",
       "      <th>1</th>\n",
       "      <td>0</td>\n",
       "      <td>0</td>\n",
       "      <td>0.444795</td>\n",
       "      <td>0.000</td>\n",
       "      <td>0.0</td>\n",
       "      <td>0.000000</td>\n",
       "      <td>0</td>\n",
       "      <td>0</td>\n",
       "      <td>0</td>\n",
       "    </tr>\n",
       "    <tr>\n",
       "      <th>2</th>\n",
       "      <td>0</td>\n",
       "      <td>0</td>\n",
       "      <td>0.343849</td>\n",
       "      <td>0.000</td>\n",
       "      <td>0.0</td>\n",
       "      <td>0.015713</td>\n",
       "      <td>0</td>\n",
       "      <td>0</td>\n",
       "      <td>0</td>\n",
       "    </tr>\n",
       "    <tr>\n",
       "      <th>3</th>\n",
       "      <td>0</td>\n",
       "      <td>0</td>\n",
       "      <td>0.520505</td>\n",
       "      <td>0.000</td>\n",
       "      <td>0.0</td>\n",
       "      <td>0.014737</td>\n",
       "      <td>0</td>\n",
       "      <td>0</td>\n",
       "      <td>0</td>\n",
       "    </tr>\n",
       "    <tr>\n",
       "      <th>4</th>\n",
       "      <td>1</td>\n",
       "      <td>0</td>\n",
       "      <td>0.501577</td>\n",
       "      <td>0.000</td>\n",
       "      <td>0.4</td>\n",
       "      <td>0.028302</td>\n",
       "      <td>0</td>\n",
       "      <td>0</td>\n",
       "      <td>0</td>\n",
       "    </tr>\n",
       "    <tr>\n",
       "      <th>5</th>\n",
       "      <td>1</td>\n",
       "      <td>1</td>\n",
       "      <td>0.747634</td>\n",
       "      <td>0.125</td>\n",
       "      <td>0.0</td>\n",
       "      <td>0.146878</td>\n",
       "      <td>1</td>\n",
       "      <td>4</td>\n",
       "      <td>1</td>\n",
       "    </tr>\n",
       "    <tr>\n",
       "      <th>6</th>\n",
       "      <td>0</td>\n",
       "      <td>1</td>\n",
       "      <td>0.520505</td>\n",
       "      <td>0.000</td>\n",
       "      <td>0.0</td>\n",
       "      <td>0.444099</td>\n",
       "      <td>1</td>\n",
       "      <td>0</td>\n",
       "      <td>1</td>\n",
       "    </tr>\n",
       "    <tr>\n",
       "      <th>7</th>\n",
       "      <td>0</td>\n",
       "      <td>0</td>\n",
       "      <td>0.343849</td>\n",
       "      <td>0.000</td>\n",
       "      <td>0.0</td>\n",
       "      <td>0.027058</td>\n",
       "      <td>2</td>\n",
       "      <td>0</td>\n",
       "      <td>1</td>\n",
       "    </tr>\n",
       "    <tr>\n",
       "      <th>8</th>\n",
       "      <td>1</td>\n",
       "      <td>0</td>\n",
       "      <td>0.305994</td>\n",
       "      <td>0.125</td>\n",
       "      <td>0.0</td>\n",
       "      <td>0.015176</td>\n",
       "      <td>0</td>\n",
       "      <td>0</td>\n",
       "      <td>0</td>\n",
       "    </tr>\n",
       "    <tr>\n",
       "      <th>9</th>\n",
       "      <td>0</td>\n",
       "      <td>0</td>\n",
       "      <td>0.343849</td>\n",
       "      <td>0.000</td>\n",
       "      <td>0.0</td>\n",
       "      <td>0.016510</td>\n",
       "      <td>0</td>\n",
       "      <td>0</td>\n",
       "      <td>2</td>\n",
       "    </tr>\n",
       "  </tbody>\n",
       "</table>\n",
       "</div>"
      ],
      "text/plain": [
       "   10  2         3      4    5         6  7  8  9\n",
       "0   0  0  0.230284  0.000  0.0  0.013175  0  0  2\n",
       "1   0  0  0.444795  0.000  0.0  0.000000  0  0  0\n",
       "2   0  0  0.343849  0.000  0.0  0.015713  0  0  0\n",
       "3   0  0  0.520505  0.000  0.0  0.014737  0  0  0\n",
       "4   1  0  0.501577  0.000  0.4  0.028302  0  0  0\n",
       "5   1  1  0.747634  0.125  0.0  0.146878  1  4  1\n",
       "6   0  1  0.520505  0.000  0.0  0.444099  1  0  1\n",
       "7   0  0  0.343849  0.000  0.0  0.027058  2  0  1\n",
       "8   1  0  0.305994  0.125  0.0  0.015176  0  0  0\n",
       "9   0  0  0.343849  0.000  0.0  0.016510  0  0  2"
      ]
     },
     "execution_count": 14,
     "metadata": {},
     "output_type": "execute_result"
    }
   ],
   "source": [
    "for example, label in input_fn().take(1):\n",
    "    # print(pd.DataFrame(example)['10'].values)\n",
    "    break\n",
    "\n",
    "pd.DataFrame(example)"
   ]
  },
  {
   "cell_type": "code",
   "execution_count": 15,
   "id": "53e037f9-5691-42bf-87b9-731091e1c540",
   "metadata": {},
   "outputs": [
    {
     "data": {
      "text/plain": [
       "<tf.Tensor: shape=(10, 2), dtype=float32, numpy=\n",
       "array([[1., 0.],\n",
       "       [1., 0.],\n",
       "       [1., 0.],\n",
       "       [1., 0.],\n",
       "       [1., 0.],\n",
       "       [0., 1.],\n",
       "       [0., 1.],\n",
       "       [0., 1.],\n",
       "       [0., 1.],\n",
       "       [1., 0.]], dtype=float32)>"
      ]
     },
     "execution_count": 15,
     "metadata": {},
     "output_type": "execute_result"
    }
   ],
   "source": [
    "label"
   ]
  },
  {
   "cell_type": "code",
   "execution_count": 16,
   "id": "deafd25e-6996-4b39-9e77-989e2ef801f9",
   "metadata": {},
   "outputs": [],
   "source": [
    "def build_keras_model(working_dir):\n",
    "    inputs = build_keras_inputs(working_dir)\n",
    "\n",
    "    encoded_inputs = encode_inputs(inputs)\n",
    "\n",
    "    stacked_inputs = tf.concat(tf.nest.flatten(encoded_inputs), axis=1)\n",
    "    output = tf.keras.layers.Dense(100, activation='relu')(stacked_inputs)\n",
    "    output = tf.keras.layers.Dense(50, activation='relu')(output)\n",
    "    output = tf.keras.layers.Dense(2)(output)\n",
    "    model = tf.keras.Model(inputs=inputs, outputs=output)\n",
    "\n",
    "    return model"
   ]
  },
  {
   "cell_type": "code",
   "execution_count": 17,
   "id": "bb7d4386-183c-4c15-9de9-b4f35574fc49",
   "metadata": {},
   "outputs": [],
   "source": [
    "def build_keras_inputs(working_dir):\n",
    "    tf_transform_output = tft.TFTransformOutput(working_dir)\n",
    "\n",
    "    feature_spec = tf_transform_output.transformed_feature_spec().copy()\n",
    "    feature_spec.pop(LABEL_KEY)\n",
    "\n",
    "    # Build the `keras.Input` objects.\n",
    "    inputs = {}\n",
    "    for key, spec in feature_spec.items():\n",
    "        if isinstance(spec, tf.io.VarLenFeature):\n",
    "            inputs[key] = tf.keras.layers.Input(\n",
    "                shape=[None], name=key, dtype=spec.dtype, sparse=True)\n",
    "        elif isinstance(spec, tf.io.FixedLenFeature):\n",
    "            inputs[key] = tf.keras.layers.Input(\n",
    "                shape=spec.shape, name=key, dtype=spec.dtype)\n",
    "        else:\n",
    "            raise ValueError('Spec type is not supported: ', key, spec)\n",
    "\n",
    "    return inputs"
   ]
  },
  {
   "cell_type": "code",
   "execution_count": 18,
   "id": "4e17e5a2-f69b-4754-9de7-a35d5b31f82c",
   "metadata": {},
   "outputs": [],
   "source": [
    "def encode_inputs(inputs):\n",
    "    encoded_inputs = {}\n",
    "    for key in inputs:\n",
    "        feature = tf.expand_dims(inputs[key], -1)\n",
    "        if key in CATEGORICAL_COLUMNS:\n",
    "            num_buckets = tf_transform_output.num_buckets_for_transformed_feature(key)\n",
    "            encoding_layer = (\n",
    "                tf.keras.layers.CategoryEncoding(\n",
    "                    num_tokens=num_buckets, output_mode='binary', sparse=False))\n",
    "            encoded_inputs[key] = encoding_layer(feature)\n",
    "        else:\n",
    "            encoded_inputs[key] = feature\n",
    "  \n",
    "    return encoded_inputs"
   ]
  },
  {
   "cell_type": "code",
   "execution_count": 19,
   "id": "ab1822b1-c0e2-4cfb-8d09-6a61d89c1659",
   "metadata": {},
   "outputs": [
    {
     "name": "stdout",
     "output_type": "stream",
     "text": [
      "You must install pydot (`pip install pydot`) and install graphviz (see instructions at https://graphviz.gitlab.io/download/) for plot_model/model_to_dot to work.\n"
     ]
    }
   ],
   "source": [
    "model = build_keras_model(OUTPUT_DIR)\n",
    "\n",
    "tf.keras.utils.plot_model(model,rankdir='LR', show_shapes=True)"
   ]
  },
  {
   "cell_type": "code",
   "execution_count": 20,
   "id": "9c725512-d747-4857-ae96-90ff5bab0349",
   "metadata": {},
   "outputs": [],
   "source": [
    "def get_dataset(working_dir, filebase):\n",
    "    tf_transform_output = tft.TFTransformOutput(working_dir)\n",
    "\n",
    "    data_path_pattern = os.path.join(\n",
    "        working_dir,\n",
    "        filebase + '*')\n",
    "\n",
    "    input_fn = _make_training_input_fn(\n",
    "        tf_transform_output,\n",
    "        data_path_pattern,\n",
    "        batch_size=BATCH_SIZE)\n",
    "\n",
    "    dataset = input_fn()\n",
    "\n",
    "    return dataset"
   ]
  },
  {
   "cell_type": "code",
   "execution_count": 21,
   "id": "160e7699-d3c7-4d07-892a-860aa05fd8cb",
   "metadata": {},
   "outputs": [],
   "source": [
    "def train_and_evaluate(model, working_dir):\n",
    "    train_dataset = get_dataset(working_dir, TRANSFORMED_TRAIN_DATA_FILEBASE)\n",
    "    validation_dataset = get_dataset(working_dir, TRANSFORMED_TEST_DATA_FILEBASE)\n",
    "\n",
    "    model = build_keras_model(working_dir)\n",
    "\n",
    "    history = train_model(model, train_dataset, validation_dataset)\n",
    "\n",
    "    metric_values = model.evaluate(validation_dataset,\n",
    "                                 steps=EVALUATION_STEPS,\n",
    "                                 return_dict=True)\n",
    "    return model, history, metric_values"
   ]
  },
  {
   "cell_type": "code",
   "execution_count": 22,
   "id": "fa68fab9-9181-4e82-8d6c-130640c65428",
   "metadata": {},
   "outputs": [],
   "source": [
    "def train_model(model, train_dataset, validation_dataset):\n",
    "    model.compile(optimizer='adam',\n",
    "                  loss=tf.losses.CategoricalCrossentropy(from_logits=True),\n",
    "                  metrics=['accuracy'])\n",
    "\n",
    "    history = model.fit(train_dataset, validation_data=validation_dataset,\n",
    "        epochs=TRAIN_NUM_EPOCHS,\n",
    "        steps_per_epoch=STEPS_PER_TRAIN_EPOCH,\n",
    "        validation_steps=EVALUATION_STEPS)\n",
    "    return history"
   ]
  },
  {
   "cell_type": "code",
   "execution_count": null,
   "id": "a93e6f22-b006-403a-99b0-e69e1212a8fc",
   "metadata": {},
   "outputs": [],
   "source": [
    "pandas_train = pd.read_csv(TRAIN_DATA, header=None, names=SELECTED_COLUMNS)\n",
    "pandas_test = pd.read_csv(TEST_DATA, header=1, names=SELECTED_COLUMNS)\n",
    "\n",
    "COLUMN_DEFAULTS = [\n",
    "  '' if isinstance(v, str) else 0.0\n",
    "  for v in  dict(pandas_train.loc[1]).values()]\n",
    "\n",
    "EPOCH_SPLITS = 10\n",
    "TRAIN_NUM_EPOCHS = 2*EPOCH_SPLITS\n",
    "NUM_TRAIN_INSTANCES = len(pandas_train)\n",
    "NUM_TEST_INSTANCES = len(pandas_test)\n",
    "\n",
    "BATCH_SIZE = 128\n",
    "\n",
    "STEPS_PER_TRAIN_EPOCH = tf.math.ceil(NUM_TRAIN_INSTANCES/BATCH_SIZE/EPOCH_SPLITS)\n",
    "EVALUATION_STEPS = tf.math.ceil(NUM_TEST_INSTANCES/BATCH_SIZE)\n",
    "\n",
    "# Names of temp files\n",
    "TRANSFORMED_TRAIN_DATA_FILEBASE = 'train_transformed'\n",
    "TRANSFORMED_TEST_DATA_FILEBASE = 'test_transformed'\n",
    "EXPORTED_MODEL_DIR = 'exported_model_dir'"
   ]
  },
  {
   "cell_type": "code",
   "execution_count": null,
   "id": "df9d814f-ab16-486f-8125-21bc28aba2e8",
   "metadata": {},
   "outputs": [
    {
     "name": "stdout",
     "output_type": "stream",
     "text": [
      "Epoch 1/20\n",
      "1/1 [==============================] - 3s 3s/step - loss: 0.7419 - accuracy: 0.3359 - val_loss: 0.7248 - val_accuracy: 0.3229\n",
      "Epoch 2/20\n",
      "1/1 [==============================] - 0s 103ms/step - loss: 0.7297 - accuracy: 0.2656 - val_loss: 0.7095 - val_accuracy: 0.3776\n",
      "Epoch 3/20\n",
      "1/1 [==============================] - 0s 125ms/step - loss: 0.7028 - accuracy: 0.4375 - val_loss: 0.6907 - val_accuracy: 0.5651\n",
      "Epoch 4/20\n",
      "1/1 [==============================] - 0s 112ms/step - loss: 0.6913 - accuracy: 0.5781 - val_loss: 0.6775 - val_accuracy: 0.6094\n",
      "Epoch 5/20\n",
      "1/1 [==============================] - 0s 88ms/step - loss: 0.6591 - accuracy: 0.6875 - val_loss: 0.6626 - val_accuracy: 0.6328\n",
      "Epoch 6/20\n",
      "1/1 [==============================] - 0s 122ms/step - loss: 0.6516 - accuracy: 0.6406 - val_loss: 0.6493 - val_accuracy: 0.6432\n",
      "Epoch 7/20\n",
      "1/1 [==============================] - 0s 101ms/step - loss: 0.6377 - accuracy: 0.6797 - val_loss: 0.6379 - val_accuracy: 0.6432\n",
      "Epoch 8/20\n",
      "1/1 [==============================] - 0s 137ms/step - loss: 0.6237 - accuracy: 0.6719 - val_loss: 0.6308 - val_accuracy: 0.6354\n",
      "Epoch 9/20\n",
      "1/1 [==============================] - 0s 111ms/step - loss: 0.6398 - accuracy: 0.6406 - val_loss: 0.6195 - val_accuracy: 0.6458\n",
      "Epoch 10/20\n",
      "1/1 [==============================] - 0s 122ms/step - loss: 0.6151 - accuracy: 0.6406 - val_loss: 0.6063 - val_accuracy: 0.6693\n",
      "Epoch 11/20\n",
      "1/1 [==============================] - 0s 113ms/step - loss: 0.5979 - accuracy: 0.6875 - val_loss: 0.6091 - val_accuracy: 0.6484\n",
      "Epoch 12/20\n",
      "1/1 [==============================] - 0s 145ms/step - loss: 0.6161 - accuracy: 0.6406 - val_loss: 0.5944 - val_accuracy: 0.6875\n",
      "Epoch 13/20\n",
      "1/1 [==============================] - 0s 115ms/step - loss: 0.5837 - accuracy: 0.7188 - val_loss: 0.5862 - val_accuracy: 0.6901\n",
      "Epoch 14/20\n",
      "1/1 [==============================] - 0s 110ms/step - loss: 0.6049 - accuracy: 0.6328 - val_loss: 0.5928 - val_accuracy: 0.6849\n",
      "Epoch 15/20\n",
      "1/1 [==============================] - 0s 86ms/step - loss: 0.5841 - accuracy: 0.6797 - val_loss: 0.5871 - val_accuracy: 0.6953\n",
      "Epoch 16/20\n",
      "1/1 [==============================] - 1s 845ms/step - loss: 0.6177 - accuracy: 0.6016 - val_loss: 0.5724 - val_accuracy: 0.7057\n",
      "Epoch 17/20\n",
      "1/1 [==============================] - 0s 118ms/step - loss: 0.5451 - accuracy: 0.7344 - val_loss: 0.5696 - val_accuracy: 0.7109\n",
      "Epoch 18/20\n",
      "1/1 [==============================] - 0s 101ms/step - loss: 0.5352 - accuracy: 0.7656 - val_loss: 0.5560 - val_accuracy: 0.7266\n",
      "Epoch 19/20\n",
      "1/1 [==============================] - 0s 132ms/step - loss: 0.4940 - accuracy: 0.8125 - val_loss: 0.5515 - val_accuracy: 0.7370\n",
      "Epoch 20/20\n",
      "1/1 [==============================] - 0s 107ms/step - loss: 0.5761 - accuracy: 0.7188 - val_loss: 0.5472 - val_accuracy: 0.7422\n",
      "3/3 [==============================] - 0s 16ms/step - loss: 0.5475 - accuracy: 0.7474\n"
     ]
    }
   ],
   "source": [
    "model, history, metric_values = train_and_evaluate(model, OUTPUT_DIR)"
   ]
  },
  {
   "cell_type": "code",
   "execution_count": null,
   "id": "a52bbc54-38fa-41bf-a982-ac489dbe1f4e",
   "metadata": {},
   "outputs": [
    {
     "data": {
      "image/png": "[encoded data removed]",
      "text/plain": [
       "<Figure size 432x288 with 1 Axes>"
      ]
     },
     "metadata": {
      "needs_background": "light"
     },
     "output_type": "display_data"
    }
   ],
   "source": [
    "import matplotlib.pyplot as plt\n",
    "\n",
    "plt.plot(history.history['loss'], label='Train')\n",
    "plt.plot(history.history['val_loss'], label='Eval')\n",
    "plt.ylim(0,max(plt.ylim()))\n",
    "plt.legend()\n",
    "plt.title('Loss');"
   ]
  },
  {
   "cell_type": "code",
   "execution_count": null,
   "id": "a7fef7db-f345-42b3-a708-dfc2add2d4f2",
   "metadata": {},
   "outputs": [],
   "source": []
  }
 ],
 "metadata": {
  "kernelspec": {
   "display_name": "Python 3 (ipykernel)",
   "language": "python",
   "name": "python3"
  },
  "language_info": {
   "codemirror_mode": {
    "name": "ipython",
    "version": 3
   },
   "file_extension": ".py",
   "mimetype": "text/x-python",
   "name": "python",
   "nbconvert_exporter": "python",
   "pygments_lexer": "ipython3",
   "version": "3.7.13"
  }
 },
 "nbformat": 4,
 "nbformat_minor": 5
}
