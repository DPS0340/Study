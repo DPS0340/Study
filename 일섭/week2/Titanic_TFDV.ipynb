{
 "cells": [
  {
   "cell_type": "markdown",
   "id": "3d2d56d0-e74e-4a1f-bd3d-50a331034647",
   "metadata": {},
   "source": [
    "# TFDV with Titanic Data"
   ]
  },
  {
   "cell_type": "markdown",
   "id": "c053b6dc-1f37-45e3-901f-4636e0f57ac6",
   "metadata": {},
   "source": [
    "## 1. Import Package"
   ]
  },
  {
   "cell_type": "code",
   "execution_count": 1,
   "id": "8688e234-7c89-4f1e-a63c-3bccbf43ff63",
   "metadata": {},
   "outputs": [
    {
     "name": "stdout",
     "output_type": "stream",
     "text": [
      "TF version :  2.8.0\n",
      "TFDV version :  1.7.0\n"
     ]
    }
   ],
   "source": [
    "import tensorflow as tf\n",
    "import tensorflow_data_validation as tfdv\n",
    "print('TF version : ',tf.__version__)\n",
    "print('TFDV version : ',tfdv.__version__)"
   ]
  },
  {
   "cell_type": "markdown",
   "id": "30b0bc55-cb78-4b79-b950-6d139ec3409e",
   "metadata": {},
   "source": [
    "## 2. Set Data Path"
   ]
  },
  {
   "cell_type": "code",
   "execution_count": 2,
   "id": "9bdac582-3c3a-4fa0-b3f5-213798b93dd6",
   "metadata": {},
   "outputs": [
    {
     "data": {
      "text/plain": [
       "(False, False, False, False, False)"
      ]
     },
     "execution_count": 2,
     "metadata": {},
     "output_type": "execute_result"
    }
   ],
   "source": [
    "import os\n",
    "\n",
    "BASE_DIR = os.path.join('D:\\Study\\ML\\So1s-Study\\일섭\\week2\\titanic', 'kaggle')\n",
    "DATA_DIR = os.path.join(BASE_DIR, 'data')\n",
    "OUTPUT_DIR = os.path.join(BASE_DIR, 'output')\n",
    "TRAIN_DATA = os.path.join(DATA_DIR, 'train.csv')\n",
    "TEST_DATA = os.path.join(DATA_DIR, 'test.csv')\n",
    "\n",
    "os.path.isdir(BASE_DIR), os.path.isdir(DATA_DIR), os.path.isdir(OUTPUT_DIR), os.path.isfile(TRAIN_DATA), os.path.isfile(TEST_DATA)"
   ]
  },
  {
   "cell_type": "markdown",
   "id": "9ab8274c-d98c-4b2b-bd5e-479c109428dd",
   "metadata": {},
   "source": [
    "## 3. Train Data Statistics"
   ]
  },
  {
   "cell_type": "code",
   "execution_count": 3,
   "id": "7dc5c77b-a133-4b53-8fca-ad48e3eedd85",
   "metadata": {},
   "outputs": [
    {
     "ename": "ValueError",
     "evalue": "No file found in the input data location: D:\\Study\\ML\\So1s-Study\\일섭\\week2\titanic\\kaggle\\data\\train.csv",
     "output_type": "error",
     "traceback": [
      "\u001b[1;31m---------------------------------------------------------------------------\u001b[0m",
      "\u001b[1;31mValueError\u001b[0m                                Traceback (most recent call last)",
      "\u001b[1;32m~\\AppData\\Local\\Temp\\ipykernel_16712\\3246697909.py\u001b[0m in \u001b[0;36m<module>\u001b[1;34m\u001b[0m\n\u001b[1;32m----> 1\u001b[1;33m \u001b[0mtrain_stats\u001b[0m \u001b[1;33m=\u001b[0m \u001b[0mtfdv\u001b[0m\u001b[1;33m.\u001b[0m\u001b[0mgenerate_statistics_from_csv\u001b[0m\u001b[1;33m(\u001b[0m\u001b[0mdata_location\u001b[0m\u001b[1;33m=\u001b[0m\u001b[0mTRAIN_DATA\u001b[0m\u001b[1;33m)\u001b[0m\u001b[1;33m\u001b[0m\u001b[1;33m\u001b[0m\u001b[0m\n\u001b[0m\u001b[0;32m      2\u001b[0m \u001b[0mtfdv\u001b[0m\u001b[1;33m.\u001b[0m\u001b[0mvisualize_statistics\u001b[0m\u001b[1;33m(\u001b[0m\u001b[0mtrain_stats\u001b[0m\u001b[1;33m)\u001b[0m\u001b[1;33m\u001b[0m\u001b[1;33m\u001b[0m\u001b[0m\n",
      "\u001b[1;32mD:\\Users\\shini\\anaconda3\\envs\\tf2_py37\\lib\\site-packages\\tensorflow_data_validation\\utils\\stats_gen_lib.py\u001b[0m in \u001b[0;36mgenerate_statistics_from_csv\u001b[1;34m(data_location, column_names, delimiter, output_path, stats_options, pipeline_options, compression_type)\u001b[0m\n\u001b[0;32m    169\u001b[0m     \u001b[0mskip_header_lines\u001b[0m \u001b[1;33m=\u001b[0m \u001b[1;36m1\u001b[0m \u001b[1;32mif\u001b[0m \u001b[0mcolumn_names\u001b[0m \u001b[1;32mis\u001b[0m \u001b[1;32mNone\u001b[0m \u001b[1;32melse\u001b[0m \u001b[1;36m0\u001b[0m\u001b[1;33m\u001b[0m\u001b[1;33m\u001b[0m\u001b[0m\n\u001b[0;32m    170\u001b[0m     \u001b[1;32mif\u001b[0m \u001b[0mcolumn_names\u001b[0m \u001b[1;32mis\u001b[0m \u001b[1;32mNone\u001b[0m\u001b[1;33m:\u001b[0m\u001b[1;33m\u001b[0m\u001b[1;33m\u001b[0m\u001b[0m\n\u001b[1;32m--> 171\u001b[1;33m       \u001b[0mcolumn_names\u001b[0m \u001b[1;33m=\u001b[0m \u001b[0mget_csv_header\u001b[0m\u001b[1;33m(\u001b[0m\u001b[0mdata_location\u001b[0m\u001b[1;33m,\u001b[0m \u001b[0mdelimiter\u001b[0m\u001b[1;33m,\u001b[0m \u001b[0mcompression_type\u001b[0m\u001b[1;33m)\u001b[0m\u001b[1;33m\u001b[0m\u001b[1;33m\u001b[0m\u001b[0m\n\u001b[0m\u001b[0;32m    172\u001b[0m     _ = (\n\u001b[0;32m    173\u001b[0m         \u001b[0mp\u001b[0m\u001b[1;33m\u001b[0m\u001b[1;33m\u001b[0m\u001b[0m\n",
      "\u001b[1;32mD:\\Users\\shini\\anaconda3\\envs\\tf2_py37\\lib\\site-packages\\tensorflow_data_validation\\utils\\stats_gen_lib.py\u001b[0m in \u001b[0;36mget_csv_header\u001b[1;34m(data_location, delimiter, compression_type)\u001b[0m\n\u001b[0;32m    302\u001b[0m   \u001b[1;32mif\u001b[0m \u001b[1;32mnot\u001b[0m \u001b[0mmatched_files\u001b[0m\u001b[1;33m:\u001b[0m\u001b[1;33m\u001b[0m\u001b[1;33m\u001b[0m\u001b[0m\n\u001b[0;32m    303\u001b[0m     raise ValueError(\n\u001b[1;32m--> 304\u001b[1;33m         'No file found in the input data location: %s' % data_location)\n\u001b[0m\u001b[0;32m    305\u001b[0m \u001b[1;33m\u001b[0m\u001b[0m\n\u001b[0;32m    306\u001b[0m   \u001b[1;31m# detect compression base on file extension if it is `AUTO`.\u001b[0m\u001b[1;33m\u001b[0m\u001b[1;33m\u001b[0m\u001b[1;33m\u001b[0m\u001b[0m\n",
      "\u001b[1;31mValueError\u001b[0m: No file found in the input data location: D:\\Study\\ML\\So1s-Study\\일섭\\week2\titanic\\kaggle\\data\\train.csv"
     ]
    }
   ],
   "source": [
    "train_stats = tfdv.generate_statistics_from_csv(data_location=TRAIN_DATA)\n",
    "tfdv.visualize_statistics(train_stats)"
   ]
  },
  {
   "cell_type": "markdown",
   "id": "59cbf3e3-2145-4170-884d-cf8c480384ce",
   "metadata": {},
   "source": [
    "## 4. Train Data Schema Check"
   ]
  },
  {
   "cell_type": "code",
   "execution_count": null,
   "id": "93fc096c-94c4-4782-b03f-3374e7c9d644",
   "metadata": {},
   "outputs": [],
   "source": [
    "schema = tfdv.infer_schema(statistics=train_stats)\n",
    "tfdv.display_schema(schema=schema)"
   ]
  },
  {
   "cell_type": "markdown",
   "id": "daffc205-3640-4fc5-8b3f-977be8fd1203",
   "metadata": {},
   "source": [
    "## 5. Compare Train with Test"
   ]
  },
  {
   "cell_type": "code",
   "execution_count": null,
   "id": "a0287b43-568f-4bcd-9fc8-32a66841dd0c",
   "metadata": {},
   "outputs": [],
   "source": [
    "test_stats = tfdv.generate_statistics_from_csv(data_location=TEST_DATA)\n",
    "tfdv.visualize_statistics(lhs_statistics=test_stats, rhs_statistics=train_stats,\n",
    "                         lhs_name=\"TEST_DATA\", rhs_name=\"TRAIN_DATA\")"
   ]
  },
  {
   "cell_type": "markdown",
   "id": "bf8a815e-0b4c-43af-a4d7-07a36b5a2e5e",
   "metadata": {
    "tags": []
   },
   "source": [
    "## 6. Check Anomalies (Test Data)"
   ]
  },
  {
   "cell_type": "code",
   "execution_count": null,
   "id": "0461a760-99c0-4ca6-8931-ef407e538335",
   "metadata": {},
   "outputs": [],
   "source": [
    "anomalies = tfdv.validate_statistics(statistics=test_stats, schema=schema)\n",
    "tfdv.display_anomalies(anomalies)"
   ]
  },
  {
   "cell_type": "code",
   "execution_count": null,
   "id": "9ccb5ca3-e5c7-4388-b896-0cc75570b0b5",
   "metadata": {},
   "outputs": [],
   "source": [
    "options = tfdv.StatsOptions(schema=schema, infer_type_from_schema = True)\n",
    "test_stats = tfdv.generate_statistics_from_csv(TEST_DATA, stats_options=options)\n",
    "test_anomalies = tfdv.validate_statistics(test_stats, schema)\n",
    "\n",
    "schema.default_environment.append('TRAIN')\n",
    "schema.default_environment.append('TEST')\n",
    "\n",
    "tfdv.get_feature(schema, 'Survived').not_in_environment.append('TEST')\n",
    "test_anomalies_with_env = tfdv.validate_statistics(test_stats, schema, environment='TEST')\n",
    "\n",
    "tfdv.display_anomalies(test_anomalies_with_env)"
   ]
  },
  {
   "cell_type": "code",
   "execution_count": 8,
   "id": "41865496-ede8-474f-a18e-2c0fff617c52",
   "metadata": {},
   "outputs": [
    {
     "data": {
      "text/html": [
       "<div>\n",
       "<style scoped>\n",
       "    .dataframe tbody tr th:only-of-type {\n",
       "        vertical-align: middle;\n",
       "    }\n",
       "\n",
       "    .dataframe tbody tr th {\n",
       "        vertical-align: top;\n",
       "    }\n",
       "\n",
       "    .dataframe thead th {\n",
       "        text-align: right;\n",
       "    }\n",
       "</style>\n",
       "<table border=\"1\" class=\"dataframe\">\n",
       "  <thead>\n",
       "    <tr style=\"text-align: right;\">\n",
       "      <th></th>\n",
       "      <th>Anomaly short description</th>\n",
       "      <th>Anomaly long description</th>\n",
       "    </tr>\n",
       "    <tr>\n",
       "      <th>Feature name</th>\n",
       "      <th></th>\n",
       "      <th></th>\n",
       "    </tr>\n",
       "  </thead>\n",
       "  <tbody>\n",
       "    <tr>\n",
       "      <th>'Sex'</th>\n",
       "      <td>High Linfty distance between training and serving</td>\n",
       "      <td>The Linfty distance between training and serving is 0.0112233 (up to six significant digits), above the threshold 0.01. The feature value with maximum difference is: male</td>\n",
       "    </tr>\n",
       "  </tbody>\n",
       "</table>\n",
       "</div>"
      ],
      "text/plain": [
       "                                      Anomaly short description  \\\n",
       "Feature name                                                      \n",
       "'Sex'         High Linfty distance between training and serving   \n",
       "\n",
       "                                                                                                                                                                Anomaly long description  \n",
       "Feature name                                                                                                                                                                              \n",
       "'Sex'         The Linfty distance between training and serving is 0.0112233 (up to six significant digits), above the threshold 0.01. The feature value with maximum difference is: male  "
      ]
     },
     "metadata": {},
     "output_type": "display_data"
    }
   ],
   "source": [
    "# Add skew comparator for 'payment_type' feature.\n",
    "sex = tfdv.get_feature(schema, 'Sex')\n",
    "sex.skew_comparator.infinity_norm.threshold = 0.01\n",
    "\n",
    "# # Add drift comparator for 'company' feature.\n",
    "# sex2=tfdv.get_feature(schema, 'Sex')\n",
    "# sex2.drift_comparator.infinity_norm.threshold = 0.01\n",
    "\n",
    "skew_anomalies = tfdv.validate_statistics(train_stats, schema,\n",
    "                                          serving_statistics=test_stats)\n",
    "\n",
    "tfdv.display_anomalies(skew_anomalies)"
   ]
  },
  {
   "cell_type": "code",
   "execution_count": null,
   "id": "11f1a7a0-2a48-49f0-8e33-e940325d0323",
   "metadata": {},
   "outputs": [],
   "source": []
  }
 ],
 "metadata": {
  "kernelspec": {
   "display_name": "Python 3 (ipykernel)",
   "language": "python",
   "name": "python3"
  },
  "language_info": {
   "codemirror_mode": {
    "name": "ipython",
    "version": 3
   },
   "file_extension": ".py",
   "mimetype": "text/x-python",
   "name": "python",
   "nbconvert_exporter": "python",
   "pygments_lexer": "ipython3",
   "version": "3.7.13"
  }
 },
 "nbformat": 4,
 "nbformat_minor": 5
}
